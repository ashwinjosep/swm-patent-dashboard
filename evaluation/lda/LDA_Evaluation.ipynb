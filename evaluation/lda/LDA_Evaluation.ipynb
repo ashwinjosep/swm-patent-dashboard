{
  "nbformat": 4,
  "nbformat_minor": 0,
  "metadata": {
    "colab": {
      "name": "LDA_Evaluation.ipynb",
      "provenance": [],
      "authorship_tag": "ABX9TyPyvD9Ujpi+EXjvsU6N9D/T",
      "include_colab_link": true
    },
    "kernelspec": {
      "name": "python3",
      "display_name": "Python 3"
    }
  },
  "cells": [
    {
      "cell_type": "markdown",
      "metadata": {
        "id": "view-in-github",
        "colab_type": "text"
      },
      "source": [
        "<a href=\"https://colab.research.google.com/github/ashwinjosep/swm-patent-dashboard/blob/master/evaluation/lda/LDA_Evaluation.ipynb\" target=\"_parent\"><img src=\"https://colab.research.google.com/assets/colab-badge.svg\" alt=\"Open In Colab\"/></a>"
      ]
    },
    {
      "cell_type": "markdown",
      "metadata": {
        "id": "oGFuZjHmnlOQ",
        "colab_type": "text"
      },
      "source": [
        "# CSE 573 - Semantic Web Mining | Spring 2020 | Group 19\n",
        "# Document clustering and visualization"
      ]
    },
    {
      "cell_type": "markdown",
      "metadata": {
        "id": "b_IEoc32nrYg",
        "colab_type": "text"
      },
      "source": [
        "# Evaluation"
      ]
    },
    {
      "cell_type": "code",
      "metadata": {
        "id": "NmCHuB2OndP7",
        "colab_type": "code",
        "colab": {}
      },
      "source": [
        "from gensim.models.coherencemodel import CoherenceModel\n",
        "from gensim.models.ldamodel import LdaModel\n",
        "from gensim.corpora.dictionary import Dictionary"
      ],
      "execution_count": 0,
      "outputs": []
    },
    {
      "cell_type": "markdown",
      "metadata": {
        "id": "O0Ja6MNgn0gq",
        "colab_type": "text"
      },
      "source": [
        "Load the saved LDA model, corpus and dictionary"
      ]
    },
    {
      "cell_type": "code",
      "metadata": {
        "id": "Hsny9GfBn20E",
        "colab_type": "code",
        "colab": {}
      },
      "source": [
        "with open('/content/gdrive/My Drive/SWM_Final/finalized_lda_model.sav', 'rb') as filehandle:\n",
        "      # read the data as binary data stream\n",
        "      ldamodel = pickle.load(filehandle)\n",
        "\n",
        "dictionary = Dictionary.load('/content/gdrive/My Drive/SWM_Final/lda_dict.pickle')\n",
        "\n",
        "with open('/content/gdrive/My Drive/SWM_Final/lda_corpus.data', 'rb') as filehandle:\n",
        "      # read the data as binary data stream\n",
        "      corpus = pickle.load(filehandle)"
      ],
      "execution_count": 0,
      "outputs": []
    },
    {
      "cell_type": "markdown",
      "metadata": {
        "id": "MaBcUGyGn4-r",
        "colab_type": "text"
      },
      "source": [
        "Calculate the u_mass score for getting the topic coherence of LDA model. "
      ]
    },
    {
      "cell_type": "code",
      "metadata": {
        "id": "XtJI-lKHn59P",
        "colab_type": "code",
        "colab": {}
      },
      "source": [
        "goodcm = CoherenceModel(model=ldamodel, corpus=corpus, dictionary=dictionary, coherence='u_mass')\n",
        "print(goodcm.get_coherence())"
      ],
      "execution_count": 0,
      "outputs": []
    }
  ]
}