{
  "nbformat": 4,
  "nbformat_minor": 0,
  "metadata": {
    "colab": {
      "name": "Untitled0.ipynb",
      "provenance": [],
      "collapsed_sections": [],
      "machine_shape": "hm",
      "mount_file_id": "1tPX22EkeCu-_gSrW54JQAs12TrfOVK0e",
      "authorship_tag": "ABX9TyNuO73J2KtbD9/ZVonUlMJW",
      "include_colab_link": true
    },
    "kernelspec": {
      "name": "python3",
      "display_name": "Python 3"
    },
    "accelerator": "GPU"
  },
  "cells": [
    {
      "cell_type": "markdown",
      "metadata": {
        "id": "view-in-github",
        "colab_type": "text"
      },
      "source": [
        "<a href=\"https://colab.research.google.com/github/ashwinjosep/swm-patent-dashboard/blob/master/Untitled0.ipynb\" target=\"_parent\"><img src=\"https://colab.research.google.com/assets/colab-badge.svg\" alt=\"Open In Colab\"/></a>"
      ]
    },
    {
      "cell_type": "code",
      "metadata": {
        "id": "gE_fwtxXf9O1",
        "colab_type": "code",
        "outputId": "4c8d073a-b3f2-4b5d-a4b7-06098584b955",
        "colab": {
          "base_uri": "https://localhost:8080/",
          "height": 710
        }
      },
      "source": [
        "import pandas as pd\n",
        "import numpy as np\n",
        "from matplotlib import pyplot as plt\n",
        "\n",
        "!pip install -q ijson\n",
        "import ijson\n",
        "\n",
        "# Install Faiss library\n",
        "!apt install libomp-dev\n",
        "!python -m pip install --upgrade faiss faiss-cpu\n",
        "import faiss\n"
      ],
      "execution_count": 2,
      "outputs": [
        {
          "output_type": "stream",
          "text": [
            "\u001b[K     |████████████████████████████████| 102kB 2.6MB/s \n",
            "Reading package lists... Done\n",
            "Building dependency tree       \n",
            "Reading state information... Done\n",
            "The following additional packages will be installed:\n",
            "  libomp5\n",
            "Suggested packages:\n",
            "  libomp-doc\n",
            "The following NEW packages will be installed:\n",
            "  libomp-dev libomp5\n",
            "0 upgraded, 2 newly installed, 0 to remove and 25 not upgraded.\n",
            "Need to get 239 kB of archives.\n",
            "After this operation, 804 kB of additional disk space will be used.\n",
            "Get:1 http://archive.ubuntu.com/ubuntu bionic/universe amd64 libomp5 amd64 5.0.1-1 [234 kB]\n",
            "Get:2 http://archive.ubuntu.com/ubuntu bionic/universe amd64 libomp-dev amd64 5.0.1-1 [5,088 B]\n",
            "Fetched 239 kB in 1s (329 kB/s)\n",
            "Selecting previously unselected package libomp5:amd64.\n",
            "(Reading database ... 144568 files and directories currently installed.)\n",
            "Preparing to unpack .../libomp5_5.0.1-1_amd64.deb ...\n",
            "Unpacking libomp5:amd64 (5.0.1-1) ...\n",
            "Selecting previously unselected package libomp-dev.\n",
            "Preparing to unpack .../libomp-dev_5.0.1-1_amd64.deb ...\n",
            "Unpacking libomp-dev (5.0.1-1) ...\n",
            "Setting up libomp5:amd64 (5.0.1-1) ...\n",
            "Setting up libomp-dev (5.0.1-1) ...\n",
            "Processing triggers for libc-bin (2.27-3ubuntu1) ...\n",
            "/sbin/ldconfig.real: /usr/local/lib/python3.6/dist-packages/ideep4py/lib/libmkldnn.so.0 is not a symbolic link\n",
            "\n",
            "Collecting faiss\n",
            "\u001b[?25l  Downloading https://files.pythonhosted.org/packages/bd/1c/4ae6cb87cf0c09c25561ea48db11e25713b25c580909902a92c090b377c0/faiss-1.5.3-cp36-cp36m-manylinux1_x86_64.whl (4.7MB)\n",
            "\u001b[K     |████████████████████████████████| 4.7MB 2.8MB/s \n",
            "\u001b[?25hCollecting faiss-cpu\n",
            "\u001b[?25l  Downloading https://files.pythonhosted.org/packages/1d/84/9de38703486d9f00b1a63590887a318d08c52f10f768968bd7626aee75da/faiss_cpu-1.6.3-cp36-cp36m-manylinux2010_x86_64.whl (7.2MB)\n",
            "\u001b[K     |████████████████████████████████| 7.2MB 27.3MB/s \n",
            "\u001b[?25hRequirement already satisfied, skipping upgrade: numpy in /usr/local/lib/python3.6/dist-packages (from faiss) (1.18.3)\n",
            "Installing collected packages: faiss, faiss-cpu\n",
            "Successfully installed faiss-1.5.3 faiss-cpu-1.6.3\n"
          ],
          "name": "stdout"
        }
      ]
    },
    {
      "cell_type": "code",
      "metadata": {
        "id": "wlG2x2nL_a4o",
        "colab_type": "code",
        "colab": {
          "base_uri": "https://localhost:8080/",
          "height": 35
        },
        "outputId": "5cb08c2c-07ea-4d59-97df-2cbec2d57ff6"
      },
      "source": [
        "from google.colab import drive\n",
        "drive.mount('/content/drive/')"
      ],
      "execution_count": 4,
      "outputs": [
        {
          "output_type": "stream",
          "text": [
            "Drive already mounted at /content/drive/; to attempt to forcibly remount, call drive.mount(\"/content/drive/\", force_remount=True).\n"
          ],
          "name": "stdout"
        }
      ]
    },
    {
      "cell_type": "code",
      "metadata": {
        "id": "6VyFxDUIpm-I",
        "colab_type": "code",
        "colab": {
          "base_uri": "https://localhost:8080/",
          "height": 198
        },
        "outputId": "0ae34ae9-d808-4180-d14b-b077c1c4a490"
      },
      "source": [
        "# /content/drive/My Drive/Colab Notebooks/bert/bert_sentence_embeddings.json\n",
        "import json\n",
        "import pandas as pd\n",
        "               \n",
        "input_file = '/content/drive/My Drive/Colab Notebooks/bert/bert_sentence_embeddings.json'\n",
        "df = pd.read_json(input_file)\n",
        "df.head()\n"
      ],
      "execution_count": 5,
      "outputs": [
        {
          "output_type": "execute_result",
          "data": {
            "text/html": [
              "<div>\n",
              "<style scoped>\n",
              "    .dataframe tbody tr th:only-of-type {\n",
              "        vertical-align: middle;\n",
              "    }\n",
              "\n",
              "    .dataframe tbody tr th {\n",
              "        vertical-align: top;\n",
              "    }\n",
              "\n",
              "    .dataframe thead th {\n",
              "        text-align: right;\n",
              "    }\n",
              "</style>\n",
              "<table border=\"1\" class=\"dataframe\">\n",
              "  <thead>\n",
              "    <tr style=\"text-align: right;\">\n",
              "      <th></th>\n",
              "      <th>patents</th>\n",
              "      <th>embedding</th>\n",
              "    </tr>\n",
              "  </thead>\n",
              "  <tbody>\n",
              "    <tr>\n",
              "      <th>0</th>\n",
              "      <td>1446563.txt</td>\n",
              "      <td>[[-0.4054458737], [0.1896702647], [0.478957831...</td>\n",
              "    </tr>\n",
              "    <tr>\n",
              "      <th>1</th>\n",
              "      <td>1525015.txt</td>\n",
              "      <td>[[-0.7575499415], [0.23060266670000001], [0.26...</td>\n",
              "    </tr>\n",
              "    <tr>\n",
              "      <th>2</th>\n",
              "      <td>1863216.txt</td>\n",
              "      <td>[[-0.7217640281000001], [0.3119140863], [0.430...</td>\n",
              "    </tr>\n",
              "    <tr>\n",
              "      <th>3</th>\n",
              "      <td>1978631.txt</td>\n",
              "      <td>[[-0.6026857495], [0.1923290491], [0.561453998...</td>\n",
              "    </tr>\n",
              "    <tr>\n",
              "      <th>4</th>\n",
              "      <td>2027962.txt</td>\n",
              "      <td>[[-0.6079613566000001], [0.3273051679], [0.396...</td>\n",
              "    </tr>\n",
              "  </tbody>\n",
              "</table>\n",
              "</div>"
            ],
            "text/plain": [
              "       patents                                          embedding\n",
              "0  1446563.txt  [[-0.4054458737], [0.1896702647], [0.478957831...\n",
              "1  1525015.txt  [[-0.7575499415], [0.23060266670000001], [0.26...\n",
              "2  1863216.txt  [[-0.7217640281000001], [0.3119140863], [0.430...\n",
              "3  1978631.txt  [[-0.6026857495], [0.1923290491], [0.561453998...\n",
              "4  2027962.txt  [[-0.6079613566000001], [0.3273051679], [0.396..."
            ]
          },
          "metadata": {
            "tags": []
          },
          "execution_count": 5
        }
      ]
    },
    {
      "cell_type": "code",
      "metadata": {
        "id": "X0XPCV87ADkJ",
        "colab_type": "code",
        "colab": {
          "base_uri": "https://localhost:8080/",
          "height": 35
        },
        "outputId": "ef9818cb-9cf9-4172-d9bc-9475789065a1"
      },
      "source": [
        "# fix the data\n",
        "list1 = []\n",
        "for index, row in df.iterrows():\n",
        "  # print('index: ', index)\n",
        "  temp = []\n",
        "  for sublist in row['embedding']:\n",
        "    temp.append(sublist[0])\n",
        "  list1.append(temp)\n",
        "\n",
        "# convert list of list tp np matrix\n",
        "matrix = np.array(list1)\n",
        "matrix.shape"
      ],
      "execution_count": 7,
      "outputs": [
        {
          "output_type": "execute_result",
          "data": {
            "text/plain": [
              "(70630, 768)"
            ]
          },
          "metadata": {
            "tags": []
          },
          "execution_count": 7
        }
      ]
    },
    {
      "cell_type": "code",
      "metadata": {
        "id": "rxGBrsfQBKo8",
        "colab_type": "code",
        "colab": {}
      },
      "source": [
        ""
      ],
      "execution_count": 0,
      "outputs": []
    },
    {
      "cell_type": "code",
      "metadata": {
        "id": "9qfAn_rd63qW",
        "colab_type": "code",
        "colab": {}
      },
      "source": [
        "def faiss_kmeans(x, n_clusters=10, niter=20):\n",
        "    \"\"\"\n",
        "    K-Means clustering with FAISS\n",
        "    \"\"\"\n",
        "    verbose = True\n",
        "    d = matrix.shape[1]\n",
        "    kmeans = faiss.Kmeans(d, n_clusters, niter=niter, verbose=verbose)\n",
        "    kmeans.train(x)\n",
        "    D, I = kmeans.index.search(x, 1)\n",
        "    writer = csv.writer(open(\"detail.csv\", \"w\"))\n",
        "    writer.writerow([\"indx\", \"dist\", \"cluster\"])\n",
        "    for s, n, d, i in zip(s_list, n_list, [x[0] for x in D], [x[0] for x in I]):\n",
        "        writer.writerow([s[0].decode('utf-8'), n[0].decode('utf-8'), d, i])\n",
        "    return D, I\n"
      ],
      "execution_count": 0,
      "outputs": []
    },
    {
      "cell_type": "code",
      "metadata": {
        "id": "WWS8KIOm8AZG",
        "colab_type": "code",
        "colab": {}
      },
      "source": [
        "D, I = faiss_kmeans(matrix, 10, 20)\n",
        "# print('D',D)"
      ],
      "execution_count": 0,
      "outputs": []
    },
    {
      "cell_type": "code",
      "metadata": {
        "id": "WdKz3WV560Vs",
        "colab_type": "code",
        "colab": {}
      },
      "source": [
        ""
      ],
      "execution_count": 0,
      "outputs": []
    },
    {
      "cell_type": "code",
      "metadata": {
        "id": "AAKY8vYt34HF",
        "colab_type": "code",
        "colab": {}
      },
      "source": [
        "'''\n",
        "testing\n",
        "'''\n",
        "nprobe = n_cluster  # find 2 most similar clusters\n",
        "n_query = 10  \n",
        "k = 3  # return 3 nearest neighbours\n",
        "np.random.seed(0)   \n",
        "query_vectors = np.random.random((n_query, dimension)).astype('float32')\n",
        "distances, indices = index.search(query_vectors, k)\n"
      ],
      "execution_count": 0,
      "outputs": []
    },
    {
      "cell_type": "code",
      "metadata": {
        "id": "6kS8gK3a0GHU",
        "colab_type": "code",
        "outputId": "8a2ef1c5-05e8-4c97-ce2e-197ef9f21931",
        "colab": {
          "base_uri": "https://localhost:8080/",
          "height": 326
        }
      },
      "source": [
        "gpu_info = !nvidia-smi\n",
        "gpu_info = '\\n'.join(gpu_info)\n",
        "if gpu_info.find('failed') >= 0:\n",
        "  print('Select the Runtime → \"Change runtime type\" menu to enable a GPU accelerator, ')\n",
        "  print('and then re-execute this cell.')\n",
        "else:\n",
        "  print(gpu_info)"
      ],
      "execution_count": 13,
      "outputs": [
        {
          "output_type": "stream",
          "text": [
            "Thu Apr 30 22:36:12 2020       \n",
            "+-----------------------------------------------------------------------------+\n",
            "| NVIDIA-SMI 440.64.00    Driver Version: 418.67       CUDA Version: 10.1     |\n",
            "|-------------------------------+----------------------+----------------------+\n",
            "| GPU  Name        Persistence-M| Bus-Id        Disp.A | Volatile Uncorr. ECC |\n",
            "| Fan  Temp  Perf  Pwr:Usage/Cap|         Memory-Usage | GPU-Util  Compute M. |\n",
            "|===============================+======================+======================|\n",
            "|   0  Tesla P100-PCIE...  Off  | 00000000:00:04.0 Off |                    0 |\n",
            "| N/A   48C    P0    28W / 250W |      0MiB / 16280MiB |      0%      Default |\n",
            "+-------------------------------+----------------------+----------------------+\n",
            "                                                                               \n",
            "+-----------------------------------------------------------------------------+\n",
            "| Processes:                                                       GPU Memory |\n",
            "|  GPU       PID   Type   Process name                             Usage      |\n",
            "|=============================================================================|\n",
            "|  No running processes found                                                 |\n",
            "+-----------------------------------------------------------------------------+\n"
          ],
          "name": "stdout"
        }
      ]
    }
  ]
}