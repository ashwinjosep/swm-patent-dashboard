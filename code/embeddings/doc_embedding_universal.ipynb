{
  "cells": [
    {
      "cell_type": "code",
      "metadata": {
        "id": "npTSi8L48Tnw",
        "colab_type": "code",
        "outputId": "4e20913e-dbb1-4d0d-82e4-51fbdb42ed0b",
        "colab": {
          "base_uri": "https://localhost:8080/",
          "height": 55
        }
      },
      "source": [
        "from google.colab import drive\n",
        "from zipfile import ZipFile\n",
        "import torch\n",
        "import tensorflow as tf\n",
        "import tensorflow_hub as hub\n",
        "import numpy as np\n",
        "import os\n",
        "import pandas as pd\n",
        "from tqdm import tqdm\n",
        "drive.mount('/content/gdrive')"
      ],
      "execution_count": 0,
      "outputs": [
        {
          "output_type": "stream",
          "text": [
            "Drive already mounted at /content/gdrive; to attempt to forcibly remount, call drive.mount(\"/content/gdrive\", force_remount=True).\n"
          ],
          "name": "stdout"
        }
      ]
    },
    {
      "cell_type": "code",
      "execution_count": null,
      "metadata": {},
      "outputs": [],
      "source": [
        "# read config\n",
        "config\n",
        "with open(\"config.json\") as f:\n",
        "  config = json.load(f)"
      ]
    },
    {
      "cell_type": "code",
      "metadata": {
        "id": "ywmCky5X8ba4",
        "colab_type": "code",
        "colab": {}
      },
      "source": [
        "# Unzips the patents zip\n",
        "\n",
        "zippedFile = config[\"zippedFileLocation\"]\n",
        "with ZipFile(zippedFile, 'r') as zipObj:\n",
        "   # Extract all the contents of zip file in current directory\n",
        "   zipObj.extractall()"
      ],
      "execution_count": 0,
      "outputs": []
    },
    {
      "cell_type": "code",
      "metadata": {
        "id": "o6DU1lzB8uXB",
        "colab_type": "code",
        "outputId": "bee1a998-47bf-4f28-f717-26d17adcff0b",
        "colab": {
          "base_uri": "https://localhost:8080/",
          "height": 276
        }
      },
      "source": [
        "all_text = []\n",
        "folder = \"patent_text/\"\n",
        "files = [f\"{x}\" for x in os.listdir(folder)]\n",
        "for i, file in enumerate(files):\n",
        "  if i % 5000 == 0 and i > 1:\n",
        "    print(i)\n",
        "  with open(\"patent_text/\"+file) as f:\n",
        "    lines = [line.strip(\"\\n \") for line in f.readlines()]\n",
        "    all_text.append(lines)"
      ],
      "execution_count": 0,
      "outputs": [
        {
          "output_type": "stream",
          "text": [
            "5000\n",
            "10000\n",
            "15000\n",
            "20000\n",
            "25000\n",
            "30000\n",
            "35000\n",
            "40000\n",
            "45000\n",
            "50000\n",
            "55000\n",
            "60000\n",
            "65000\n",
            "70000\n"
          ],
          "name": "stdout"
        }
      ]
    },
    {
      "cell_type": "code",
      "metadata": {
        "id": "54gYEdM180a1",
        "colab_type": "code",
        "colab": {}
      },
      "source": [
        "embed = hub.load(\"https://tfhub.dev/google/universal-sentence-encoder/4\")"
      ],
      "execution_count": 0,
      "outputs": []
    },
    {
      "cell_type": "code",
      "metadata": {
        "id": "65l1J_Jl9DVi",
        "colab_type": "code",
        "colab": {}
      },
      "source": [
        "  def get_embeddings_from_file(file_name):\n",
        "    with open(f\"patent_text/{file_name}\", \"r\") as f:\n",
        "      lines = [line.strip(\"\\n \") for line in f.readlines()]\n",
        "      try:\n",
        "        sentence_embeddings = (\n",
        "            embed.predict(tf.constant(lines))[\"outputs\"]\n",
        "              .numpy()\n",
        "              .mean(axis=0)\n",
        "              .reshape((512, 1))\n",
        "        )\n",
        "      except:\n",
        "        sentence_embeddings = np.zeros((500,1))\n",
        "      return sentence_embeddings"
      ],
      "execution_count": 0,
      "outputs": []
    },
    {
      "cell_type": "code",
      "metadata": {
        "id": "WhjUX6eP9Mje",
        "colab_type": "code",
        "outputId": "59d22660-50a1-4433-a1d5-d1be2c57bdcf",
        "colab": {
          "base_uri": "https://localhost:8080/",
          "height": 146
        }
      },
      "source": [
        "folder = \"patent_text/\"\n",
        "files = {idx: f\"{file_name}\" for idx, file_name in enumerate(os.listdir(folder))}\n",
        "start_idx, end_idx = 0, 30000\n",
        "embeddings = np.empty(end_idx-start_idx, dtype=object)\n",
        "# embeddings = np.array([])\n",
        "print(embeddings.shape)\n",
        "i = 0\n",
        "for idx in tqdm(range(start_idx, end_idx)):\n",
        "  file = files[idx]\n",
        "  if idx % 5000 == 0 and idx > 0:\n",
        "    print(idx)\n",
        "    # print(\"result: \", result)\n",
        "    # print(\"embeddings length\", len(embeddings))\n",
        "    df = pd.DataFrame({\n",
        "          \"patents\": [files[x] for x in range(start_idx, idx+1)], \n",
        "          \"embedding\": embeddings[:i+1]\n",
        "        })\n",
        "    df.to_json(config[\"universalEmbeddingLocation\"])\n",
        "  result = get_embeddings_from_file(file) \n",
        "  embeddings[i] = result\n",
        "  i += 1\n",
        "\n",
        "df = pd.DataFrame({\n",
        "      \"patents\": [files[x] for x in range(start_idx, end_idx)], \n",
        "      \"embedding\": embeddings\n",
        "    })"
      ],
      "execution_count": 0,
      "outputs": [
        {
          "output_type": "stream",
          "text": [
            "\r  0%|          | 0/30000 [00:00<?, ?it/s]"
          ],
          "name": "stderr"
        },
        {
          "output_type": "stream",
          "text": [
            "(30000,)\n"
          ],
          "name": "stdout"
        },
        {
          "output_type": "stream",
          "text": [
            " 17%|█▋        | 4999/30000 [06:46<22:43, 18.34it/s]"
          ],
          "name": "stderr"
        },
        {
          "output_type": "stream",
          "text": [
            "5000\n"
          ],
          "name": "stdout"
        },
        {
          "output_type": "stream",
          "text": [
            " 33%|███▎      | 9999/30000 [14:50<34:49,  9.57it/s]"
          ],
          "name": "stderr"
        },
        {
          "output_type": "stream",
          "text": [
            "10000\n"
          ],
          "name": "stdout"
        },
        {
          "output_type": "stream",
          "text": [
            " 50%|█████     | 15000/30000 [23:40<23:04, 10.84it/s]"
          ],
          "name": "stderr"
        },
        {
          "output_type": "stream",
          "text": [
            "15000\n"
          ],
          "name": "stdout"
        },
        {
          "output_type": "stream",
          "text": [
            " 67%|██████▋   | 20000/30000 [34:49<26:53,  6.20it/s]"
          ],
          "name": "stderr"
        },
        {
          "output_type": "stream",
          "text": [
            "20000\n"
          ],
          "name": "stdout"
        },
        {
          "output_type": "stream",
          "text": [
            " 83%|████████▎ | 24999/30000 [46:07<05:58, 13.96it/s]"
          ],
          "name": "stderr"
        },
        {
          "output_type": "stream",
          "text": [
            "25000\n"
          ],
          "name": "stdout"
        },
        {
          "output_type": "stream",
          "text": [
            "100%|██████████| 30000/30000 [57:38<00:00,  8.68it/s]\n"
          ],
          "name": "stderr"
        }
      ]
    },
    {
      "cell_type": "code",
      "metadata": {
        "id": "POsvZ18R_sbf",
        "colab_type": "code",
        "colab": {}
      },
      "source": [
        "df.to_json(config[\"universalEmbeddingLocation\"])"
      ],
      "execution_count": 0,
      "outputs": []
    }
  ],
  "metadata": {
    "colab": {
      "name": "new doc embedding.ipynb",
      "provenance": [],
      "collapsed_sections": []
    },
    "kernelspec": {
      "name": "python3",
      "display_name": "Python 3"
    },
    "accelerator": "TPU"
  },
  "nbformat": 4,
  "nbformat_minor": 0
}