{
  "nbformat": 4,
  "nbformat_minor": 0,
  "metadata": {
    "colab": {
      "name": "Embeddings comparison.ipynb",
      "provenance": [],
      "collapsed_sections": [],
      "machine_shape": "hm"
    },
    "kernelspec": {
      "name": "python3",
      "display_name": "Python 3"
    }
  },
  "cells": [
    {
      "cell_type": "code",
      "metadata": {
        "id": "ixA-t8calGqR",
        "colab_type": "code",
        "colab": {
          "base_uri": "https://localhost:8080/",
          "height": 129
        },
        "outputId": "2bd90dec-567e-4f1a-8f6e-731a32116e7c"
      },
      "source": [
        "from google.colab import drive\n",
        "from zipfile import ZipFile\n",
        "import torch\n",
        "import tensorflow as tf\n",
        "import tensorflow_hub as hub\n",
        "import numpy as np\n",
        "import os\n",
        "import pandas as pd\n",
        "from tqdm import tqdm\n",
        "import json\n",
        "import ast\n",
        "import random\n",
        "import xgboost as xgb\n",
        "from sklearn.metrics.pairwise import euclidean_distances\n",
        "from sklearn.model_selection import train_test_split\n",
        "\n",
        "drive.mount('/content/gdrive')"
      ],
      "execution_count": 1,
      "outputs": [
        {
          "output_type": "stream",
          "text": [
            "Go to this URL in a browser: https://accounts.google.com/o/oauth2/auth?client_id=947318989803-6bn6qk8qdgf4n4g3pfee6491hc0brc4i.apps.googleusercontent.com&redirect_uri=urn%3aietf%3awg%3aoauth%3a2.0%3aoob&response_type=code&scope=email%20https%3a%2f%2fwww.googleapis.com%2fauth%2fdocs.test%20https%3a%2f%2fwww.googleapis.com%2fauth%2fdrive%20https%3a%2f%2fwww.googleapis.com%2fauth%2fdrive.photos.readonly%20https%3a%2f%2fwww.googleapis.com%2fauth%2fpeopleapi.readonly\n",
            "\n",
            "Enter your authorization code:\n",
            "··········\n",
            "Mounted at /content/gdrive\n"
          ],
          "name": "stdout"
        }
      ]
    },
    {
      "cell_type": "code",
      "metadata": {
        "id": "VoJji1LYFg1L",
        "colab_type": "code",
        "colab": {}
      },
      "source": [
        "import numpy as np\n",
        "from sklearn.metrics.pairwise import euclidean_distances\n"
      ],
      "execution_count": 0,
      "outputs": []
    },
    {
      "cell_type": "code",
      "metadata": {
        "id": "vARB2UPXlMN6",
        "colab_type": "code",
        "colab": {
          "base_uri": "https://localhost:8080/",
          "height": 206
        },
        "outputId": "d3d9d0ae-17c5-4d81-9248-335933de2b3a"
      },
      "source": [
        "# Loading all embeddings\n",
        "\n",
        "def load_embeddings(filepath):\n",
        "  with open(filepath) as f:\n",
        "    dat = json.load(f)\n",
        "    return pd.DataFrame(dat)\n",
        "  \n",
        "universal_embedding_path = \"gdrive/Shared drives/SWM 20/Embeddings/universal_sentence_embeddings.json\"\n",
        "bert_embedding_path = \"gdrive/Shared drives/SWM 20/Embeddings/bert_sentence_embeddings.json\"\n",
        "\n",
        "# bert_embeddings = load_embeddings(bert_embedding_path)\n",
        "universal_embeddings = load_embeddings(universal_embedding_path)\n",
        "\n",
        "# del universal_embeddings\n",
        "universal_embeddings.head()"
      ],
      "execution_count": 135,
      "outputs": [
        {
          "output_type": "execute_result",
          "data": {
            "text/html": [
              "<div>\n",
              "<style scoped>\n",
              "    .dataframe tbody tr th:only-of-type {\n",
              "        vertical-align: middle;\n",
              "    }\n",
              "\n",
              "    .dataframe tbody tr th {\n",
              "        vertical-align: top;\n",
              "    }\n",
              "\n",
              "    .dataframe thead th {\n",
              "        text-align: right;\n",
              "    }\n",
              "</style>\n",
              "<table border=\"1\" class=\"dataframe\">\n",
              "  <thead>\n",
              "    <tr style=\"text-align: right;\">\n",
              "      <th></th>\n",
              "      <th>embedding</th>\n",
              "    </tr>\n",
              "  </thead>\n",
              "  <tbody>\n",
              "    <tr>\n",
              "      <th>1446563.txt</th>\n",
              "      <td>[[-0.012815116], [0.0148477275], [0.0148712862...</td>\n",
              "    </tr>\n",
              "    <tr>\n",
              "      <th>1525015.txt</th>\n",
              "      <td>[[0.0154291857], [-0.0182424523], [-0.00245026...</td>\n",
              "    </tr>\n",
              "    <tr>\n",
              "      <th>1863216.txt</th>\n",
              "      <td>[[-0.0030075712], [0.0033099782], [-0.00538926...</td>\n",
              "    </tr>\n",
              "    <tr>\n",
              "      <th>1978631.txt</th>\n",
              "      <td>[[0.00690126], [0.0033768883], [0.0246417094],...</td>\n",
              "    </tr>\n",
              "    <tr>\n",
              "      <th>2027962.txt</th>\n",
              "      <td>[[-0.015760392], [0.0233437903], [0.04123668],...</td>\n",
              "    </tr>\n",
              "  </tbody>\n",
              "</table>\n",
              "</div>"
            ],
            "text/plain": [
              "                                                     embedding\n",
              "1446563.txt  [[-0.012815116], [0.0148477275], [0.0148712862...\n",
              "1525015.txt  [[0.0154291857], [-0.0182424523], [-0.00245026...\n",
              "1863216.txt  [[-0.0030075712], [0.0033099782], [-0.00538926...\n",
              "1978631.txt  [[0.00690126], [0.0033768883], [0.0246417094],...\n",
              "2027962.txt  [[-0.015760392], [0.0233437903], [0.04123668],..."
            ]
          },
          "metadata": {
            "tags": []
          },
          "execution_count": 135
        }
      ]
    },
    {
      "cell_type": "code",
      "metadata": {
        "id": "exbSiId9lTOO",
        "colab_type": "code",
        "colab": {
          "base_uri": "https://localhost:8080/",
          "height": 35
        },
        "outputId": "c158ece6-30a4-491f-86a0-2f78efc50237"
      },
      "source": [
        "# Checking all embeddings to ensure no non-zero, null embeddings\n",
        "def check_embeddings(embedding_df):\n",
        "  unique_patents = list(embedding_df.index.unique())\n",
        "  patents_without_valid_embeddings = [x for x in unique_patents if (\n",
        "      not embedding_df.loc[x].embedding or \n",
        "      len(embedding_df.loc[x].embedding) < 512\n",
        "  )]\n",
        "  return patents_without_valid_embeddings\n",
        "\n",
        "# invalid_use = check_embeddings(universal_embeddings)\n",
        "# invalid_bert_embeddings = check_embeddings(bert_embeddings)\n",
        "invalid_use"
      ],
      "execution_count": 137,
      "outputs": [
        {
          "output_type": "execute_result",
          "data": {
            "text/plain": [
              "[]"
            ]
          },
          "metadata": {
            "tags": []
          },
          "execution_count": 137
        }
      ]
    },
    {
      "cell_type": "code",
      "metadata": {
        "id": "CVYcSGr2oKjm",
        "colab_type": "code",
        "colab": {
          "base_uri": "https://localhost:8080/",
          "height": 35
        },
        "outputId": "8f8708a3-42b2-4d50-c5c2-b2fb7407206f"
      },
      "source": [
        "## Getting nearest patents from dependents \n",
        "\n",
        "# Load citation dependency file and extract positive examples\n",
        "citation_dependency_file = \"gdrive/Shared drives/SWM 20/patent_dict_1000.csv\"\n",
        "# df = pd.read_csv(citation_dependency_file)\n",
        "positive_examples = []\n",
        "df.apply(\n",
        "    lambda x: [positive_examples.append((x.patent, y)) for y in ast.literal_eval(x.citations)], \n",
        "    axis=1\n",
        ")\n",
        "all_1000_patents = []\n",
        "for item in positive_examples:\n",
        "  all_1000_patents.append(str(item[0]))\n",
        "  all_1000_patents.append(str(item[1]))\n",
        "all_1000_patents = set(all_1000_patents)\n",
        "len(all_1000_patents)\n",
        "patents_with_valid_embeddings = set([x.split(\".\")[0] for x in universal_embeddings.index])\n",
        "\n",
        "all_1000_patents_with_embeddings = set(all_1000_patents).intersection(patents_with_valid_embeddings)\n",
        "# len(all_1000_patents_with_embeddings)\n",
        "positive_examples_with_text = ([\n",
        "  x\n",
        "  for x in positive_examples\n",
        "  if (\n",
        "      str(x[0]) in all_1000_patents_with_embeddings and \n",
        "      str(x[1]) in all_1000_patents_with_embeddings\n",
        "  )                               \n",
        "])\n",
        "\n",
        "dependency_dict = {}\n",
        "def assign_to_dependency_dict(key, value):\n",
        "  if str(key) not in all_1000_patents_with_embeddings:\n",
        "    return\n",
        "  value = [x for x in value if x in all_1000_patents_with_embeddings]\n",
        "  dependency_dict[key] = value\n",
        "\n",
        "df.apply(\n",
        "    lambda x: assign_to_dependency_dict(x.patent, ast.literal_eval(x.citations)),\n",
        "    axis=1\n",
        ")\n",
        "[]"
      ],
      "execution_count": 138,
      "outputs": [
        {
          "output_type": "execute_result",
          "data": {
            "text/plain": [
              "[]"
            ]
          },
          "metadata": {
            "tags": []
          },
          "execution_count": 138
        }
      ]
    },
    {
      "cell_type": "code",
      "metadata": {
        "id": "-u-XMoNFoKmU",
        "colab_type": "code",
        "colab": {}
      },
      "source": [
        "bert_embeddings.set_index(\"patents\", inplace=True)"
      ],
      "execution_count": 0,
      "outputs": []
    },
    {
      "cell_type": "code",
      "metadata": {
        "id": "ym33S0OzpP32",
        "colab_type": "code",
        "colab": {
          "base_uri": "https://localhost:8080/",
          "height": 35
        },
        "outputId": "8a74ee31-9902-469f-a348-b8cbeec6face"
      },
      "source": [
        "def get_knn_patents(dependency_dict, embeddings_df, k=10):\n",
        "  knn_patents = {}\n",
        "  for key, val in tqdm(dependency_dict.items()):\n",
        "  # for key, val in dependency_dict.items():\n",
        "\n",
        "    curr_embedding = np.array([embeddings_df.loc[f\"{key}.txt\"]]).reshape(1, -1)\n",
        "    dependents_embeddings = np.array([embeddings_df.loc[f\"{x}.txt\"] for x in val]).reshape(len(val), 512)\n",
        "    dists = euclidean_distances(curr_embedding, dependents_embeddings)\n",
        "    \n",
        "    top_k = dists.argsort()[0][:k]\n",
        "    # print(curr_embedding.shape)\n",
        "    # print(dependents_embeddings.shape)\n",
        "    # print((dists[0]))\n",
        "    _dists = [dists[0][x] for x in top_k]\n",
        "    # print(_dists)\n",
        "    top_k_patents = ([val[x] for x in top_k])\n",
        "    knn_patents[str(key)] = list(zip(top_k_patents, _dists))\n",
        "\n",
        "    # break\n",
        "  return knn_patents\n",
        "\n",
        "nearest_patents = get_knn_patents(dependency_dict, universal_embeddings)"
      ],
      "execution_count": 140,
      "outputs": [
        {
          "output_type": "stream",
          "text": [
            "100%|██████████| 994/994 [01:22<00:00, 12.08it/s]\n"
          ],
          "name": "stderr"
        }
      ]
    },
    {
      "cell_type": "code",
      "metadata": {
        "id": "8zhtf0uy1Bqu",
        "colab_type": "code",
        "colab": {}
      },
      "source": [
        "# nearest_patents"
      ],
      "execution_count": 0,
      "outputs": []
    },
    {
      "cell_type": "code",
      "metadata": {
        "id": "DCKb1RG0pvc9",
        "colab_type": "code",
        "colab": {}
      },
      "source": [
        "with open(\"gdrive/Shared drives/SWM 20/Embeddings/universal_sentence_embedding_nearest_10_measures.json\", \"w\") as fp:\n",
        "  json.dump(nearest_patents, fp)"
      ],
      "execution_count": 0,
      "outputs": []
    },
    {
      "cell_type": "code",
      "metadata": {
        "id": "m5R9kimfrVor",
        "colab_type": "code",
        "colab": {
          "base_uri": "https://localhost:8080/",
          "height": 54
        },
        "outputId": "735c94a4-e0a4-4aef-fce6-d85f7113a5a1"
      },
      "source": [
        "for patent, nearest in nearest_patents.items():\n",
        "  nearest_embeddings = np.array([bert_embeddings.loc[f\"{x}.txt\"].embedding for x in nearest]).reshape(10, 768)\n",
        "  patent_embedding = np.array([bert_embeddings.loc[f\"{patent}.txt\"]]).reshape(1, 768)\n",
        "  print(euclidean_distances(patent_embedding, nearest_embeddings))\n",
        "\n",
        "  break"
      ],
      "execution_count": 120,
      "outputs": [
        {
          "output_type": "stream",
          "text": [
            "[[0.22388788 0.23261514 0.24150575 0.24238017 0.2490443  2.32996516\n",
            "  2.385158   2.47152771 2.477126   2.48663494]]\n"
          ],
          "name": "stdout"
        }
      ]
    },
    {
      "cell_type": "code",
      "metadata": {
        "id": "r9fFgtGh1Sqg",
        "colab_type": "code",
        "colab": {
          "base_uri": "https://localhost:8080/",
          "height": 202
        },
        "outputId": "fc53dce8-5398-4a9a-e29e-2bdba99fa0cc"
      },
      "source": [
        "nearest_patents[list(nearest_patents.keys())[0]]"
      ],
      "execution_count": 108,
      "outputs": [
        {
          "output_type": "execute_result",
          "data": {
            "text/plain": [
              "['5521621',\n",
              " '5754194',\n",
              " '5122814',\n",
              " '5159349',\n",
              " '4849774',\n",
              " '5491505',\n",
              " '4965594',\n",
              " '5211754',\n",
              " '5140345',\n",
              " '5820919']"
            ]
          },
          "metadata": {
            "tags": []
          },
          "execution_count": 108
        }
      ]
    }
  ]
}