{
  "nbformat": 4,
  "nbformat_minor": 0,
  "metadata": {
    "colab": {
      "name": "Classifier BERT.ipynb",
      "provenance": [],
      "machine_shape": "hm"
    },
    "kernelspec": {
      "name": "python3",
      "display_name": "Python 3"
    }
  },
  "cells": [
    {
      "cell_type": "code",
      "metadata": {
        "id": "1RPZM1k1t80i",
        "colab_type": "code",
        "colab": {}
      },
      "source": [
        "from google.colab import drive\n",
        "from zipfile import ZipFile\n",
        "import torch\n",
        "import tensorflow as tf\n",
        "import tensorflow_hub as hub\n",
        "import numpy as np\n",
        "import os\n",
        "import pandas as pd\n",
        "from tqdm import tqdm\n",
        "import json\n",
        "import ast\n",
        "import random\n",
        "import xgboost as xgb\n",
        "from sklearn.model_selection import train_test_split\n",
        "\n",
        "# drive.mount('/content/gdrive')"
      ],
      "execution_count": 0,
      "outputs": []
    },
    {
      "cell_type": "code",
      "metadata": {
        "id": "6W4Mph4cuBHj",
        "colab_type": "code",
        "colab": {
          "base_uri": "https://localhost:8080/",
          "height": 35
        },
        "outputId": "aa89aa29-f9c4-44f1-b055-7bfde318678c"
      },
      "source": [
        "# Load citation dependency file and extract positive examples\n",
        "citation_dependency_file = \"gdrive/Shared drives/SWM 20/patent_dict_1000.csv\"\n",
        "df = pd.read_csv(citation_dependency_file)\n",
        "positive_examples = []\n",
        "edge_list_df = df.apply(\n",
        "    lambda x: [positive_examples.append((x.patent, y)) for y in ast.literal_eval(x.citations)], \n",
        "    axis=1\n",
        ")\n",
        "all_1000_patents = []\n",
        "for item in positive_examples:\n",
        "  all_1000_patents.append(str(item[0]))\n",
        "  all_1000_patents.append(str(item[1]))\n",
        "all_1000_patents = set(all_1000_patents)\n",
        "len(all_1000_patents)"
      ],
      "execution_count": 2,
      "outputs": [
        {
          "output_type": "execute_result",
          "data": {
            "text/plain": [
              "70698"
            ]
          },
          "metadata": {
            "tags": []
          },
          "execution_count": 2
        }
      ]
    },
    {
      "cell_type": "code",
      "metadata": {
        "id": "kW6qXSXbufZv",
        "colab_type": "code",
        "colab": {
          "base_uri": "https://localhost:8080/",
          "height": 35
        },
        "outputId": "2881df5a-30a7-486f-b114-3806fde05806"
      },
      "source": [
        "# Load embeddings file and check if all embeddings are valid\n",
        "embeddings_file = \"gdrive/Shared drives/SWM 20/Embeddings/bert_sentence_embeddings.json\"\n",
        "with open(embeddings_file) as f:\n",
        "  dat = json.load(f)\n",
        "  patents_embeddings_df = pd.DataFrame(dat)#, index=[\"patents\"], inplace=True)\n",
        "  patents_embeddings_df.set_index(\"patents\", inplace=True)\n",
        "\n",
        "patents_with_embeddings = list(patents_embeddings_df.index.unique())\n",
        "patents_without_valid_embeddings = [x for x in patents_with_embeddings if (\n",
        "    not patents_embeddings_df.loc[x].embedding \n",
        "    # or \n",
        "    # len(patents_embeddings_df.loc[x].embedding) == 500\n",
        "    )]\n",
        "\n",
        "if len(patents_without_valid_embeddings) > 0:\n",
        "  print(\"Some patents without embeddings found: \", len(patents_with_valid_embeddings))\n",
        "  [patents_embeddings_df.drop(x, inplace=True) for x in patents_without_valid_embeddings]\n",
        "\n",
        "patents_with_valid_embeddings = set([x.split(\".\")[0] for x in patents_embeddings_df.index])\n",
        "patents_with_valid_embeddings\n",
        "\n",
        "del patents_without_valid_embeddings\n",
        "del patents_with_embeddings\n",
        "len(patents_embeddings_df)"
      ],
      "execution_count": 8,
      "outputs": [
        {
          "output_type": "execute_result",
          "data": {
            "text/plain": [
              "70630"
            ]
          },
          "metadata": {
            "tags": []
          },
          "execution_count": 8
        }
      ]
    },
    {
      "cell_type": "code",
      "metadata": {
        "id": "JN3QRT9CuvzF",
        "colab_type": "code",
        "colab": {
          "base_uri": "https://localhost:8080/",
          "height": 35
        },
        "outputId": "1d6d6871-870d-49c5-e20c-e8055b7ae468"
      },
      "source": [
        "# Filter patents in all_1000_patents that have embeddings\n",
        "all_1000_patents_with_embeddings = set(all_1000_patents).intersection(patents_with_valid_embeddings)\n",
        "len(all_1000_patents_with_embeddings)  / len(all_1000_patents)\n",
        "\n",
        "# Find pairs that have embeddings\n",
        "positive_examples_with_text = ([\n",
        "  x\n",
        "  for x in positive_examples\n",
        "  if (\n",
        "      str(x[0]) in all_1000_patents_with_embeddings and \n",
        "      str(x[1]) in all_1000_patents_with_embeddings\n",
        "  )                               \n",
        "])\n",
        "\n",
        "# Contains 99.28% of positive_examples\n",
        "len(positive_examples_with_text) / len(positive_examples)\n",
        "\n",
        "# Check if all embeddings have shape 512\n",
        "# sum([len(x) for x in patents_embeddings_df.embedding]) == len(patents_embeddings_df) * 512"
      ],
      "execution_count": 9,
      "outputs": [
        {
          "output_type": "execute_result",
          "data": {
            "text/plain": [
              "0.9931143954181771"
            ]
          },
          "metadata": {
            "tags": []
          },
          "execution_count": 9
        }
      ]
    },
    {
      "cell_type": "code",
      "metadata": {
        "id": "kL__wnopy5Bz",
        "colab_type": "code",
        "colab": {}
      },
      "source": [
        "# Extract features for positive case\n",
        "\n",
        "feature1 = np.array([x[0] for x in positive_examples_with_text])\n",
        "feat_1_embedding = np.array([np.array(patents_embeddings_df.loc[f\"{x}.txt\"].embedding) for x in feature1])\n",
        "feat_1_embedding.shape\n",
        "\n",
        "feature2 = np.array([x[1] for x in positive_examples_with_text])\n",
        "feat_2_embedding = np.array([np.array(patents_embeddings_df.loc[f\"{x}.txt\"].embedding) for x in feature2])\n",
        "feat_2_embedding.shape\n",
        "\n",
        "np.save(\"gdrive/My Drive/Embeddings/Sentence Embeddings/feature2embedding\", feat_2_embedding)\n",
        "np.save(\"gdrive/My Drive/Embeddings/Sentence Embeddings/feature1embedding\", feat_1_embedding)"
      ],
      "execution_count": 0,
      "outputs": []
    },
    {
      "cell_type": "code",
      "metadata": {
        "id": "dRiuUcdQzLNw",
        "colab_type": "code",
        "colab": {
          "base_uri": "https://localhost:8080/",
          "height": 35
        },
        "outputId": "80a7651e-5932-4e1d-d51f-50bcbb135218"
      },
      "source": [
        "## create negative examples:\n",
        "\n",
        "dependency_dict = {}\n",
        "def assign_to_dependency_dict(key, value):\n",
        "  dependency_dict[key] = value\n",
        "df.apply(\n",
        "    lambda x: assign_to_dependency_dict(x.patent, ast.literal_eval(x.citations)),\n",
        "    axis=1\n",
        ")\n",
        "all_false_edges = []\n",
        "count = 0\n",
        "for patent, dependents in dependency_dict.items():\n",
        "  patent = str(patent)\n",
        "  if patent not in all_1000_patents_with_embeddings:\n",
        "    # print(patent)\n",
        "    continue\n",
        "  # print(\"here\")\n",
        "  false_edges = []\n",
        "  num_edges = max((70 * len(dependents)) // 100, 50)\n",
        "  while len(false_edges) < num_edges:\n",
        "    candidate = random.choice(list(all_1000_patents))\n",
        "    if candidate != patent and candidate not in dependents and candidate in all_1000_patents_with_embeddings:\n",
        "      false_edges.append(candidate)\n",
        "      all_false_edges.append((str(patent), candidate))\n",
        "\n",
        "# \"3860003\" in all_1000_patents_with_embeddings\n",
        "len(all_false_edges)"
      ],
      "execution_count": 20,
      "outputs": [
        {
          "output_type": "execute_result",
          "data": {
            "text/plain": [
              "96888"
            ]
          },
          "metadata": {
            "tags": []
          },
          "execution_count": 20
        }
      ]
    },
    {
      "cell_type": "code",
      "metadata": {
        "id": "WAvjlwEKzPj3",
        "colab_type": "code",
        "colab": {
          "base_uri": "https://localhost:8080/",
          "height": 54
        },
        "outputId": "57471247-71c9-431a-8362-8b03c57dd00d"
      },
      "source": [
        "neg_feature1 = np.array([x[0] for x in all_false_edges])\n",
        "neg_feat_1_embedding = np.array([np.array(patents_embeddings_df.loc[f\"{x}.txt\"].embedding) for x in neg_feature1])\n",
        "print(neg_feat_1_embedding.shape)\n",
        "\n",
        "neg_feature2 = np.array([x[1] for x in all_false_edges])\n",
        "neg_feat_2_embedding = np.array([np.array(patents_embeddings_df.loc[f\"{x}.txt\"].embedding) for x in neg_feature1])\n",
        "print(neg_feat_2_embedding.shape)\n",
        "\n",
        "np.save(\"gdrive/My Drive/Embeddings/Sentence Embeddings/negfeature2embedding\", neg_feat_2_embedding)\n",
        "np.save(\"gdrive/My Drive/Embeddings/Sentence Embeddings/negfeature1embedding\", neg_feat_1_embedding)"
      ],
      "execution_count": 21,
      "outputs": [
        {
          "output_type": "stream",
          "text": [
            "(96888, 768, 1)\n",
            "(96888, 768, 1)\n"
          ],
          "name": "stdout"
        }
      ]
    },
    {
      "cell_type": "code",
      "metadata": {
        "id": "zxawV-uXzw0d",
        "colab_type": "code",
        "colab": {}
      },
      "source": [
        "feat_1_embedding = np.load(\"gdrive/My Drive/Embeddings/Sentence Embeddings/feature1embedding.npy\")\n",
        "feat_2_embedding = np.load(\"gdrive/My Drive/Embeddings/Sentence Embeddings/feature2embedding.npy\")\n",
        "neg_feat_1_embedding = np.load(\"gdrive/My Drive/Embeddings/Sentence Embeddings/negfeature1embedding.npy\")\n",
        "neg_feat_2_embedding = np.load(\"gdrive/My Drive/Embeddings/Sentence Embeddings/negfeature2embedding.npy\")\n",
        "\n",
        "positives = np.concatenate((feat_1_embedding, feat_2_embedding), axis=1).reshape((138894, 1536))\n",
        "negatives = np.concatenate((neg_feat_1_embedding, neg_feat_2_embedding), axis=1).reshape((96888, 1536))\n",
        "features = np.concatenate((positives, negatives), axis=0)\n",
        "labels = np.concatenate(\n",
        "  (\n",
        "      np.array([1] * positives.shape[0]),\n",
        "      np.array([0] * negatives.shape[0])\n",
        "  )  \n",
        ")\n",
        "# np.concatenate((neg_feat_1_embedding, neg_feat_2_embedding), axis=1).shape"
      ],
      "execution_count": 0,
      "outputs": []
    },
    {
      "cell_type": "code",
      "metadata": {
        "id": "vFZkaqTuz2AW",
        "colab_type": "code",
        "colab": {
          "base_uri": "https://localhost:8080/",
          "height": 146
        },
        "outputId": "b08fed32-405c-4c8f-fa93-49340f0d33b3"
      },
      "source": [
        "# Train test split\n",
        "X_train, X_test, y_train, y_test = train_test_split(\n",
        "   features, labels, test_size=0.33, random_state=42)\n",
        "model = xgb.XGBClassifier(random_state=1, learning_rate=0.01)\n",
        "model.fit(X_train, y_train)"
      ],
      "execution_count": 4,
      "outputs": [
        {
          "output_type": "execute_result",
          "data": {
            "text/plain": [
              "XGBClassifier(base_score=0.5, booster='gbtree', colsample_bylevel=1,\n",
              "              colsample_bynode=1, colsample_bytree=1, gamma=0,\n",
              "              learning_rate=0.01, max_delta_step=0, max_depth=3,\n",
              "              min_child_weight=1, missing=None, n_estimators=100, n_jobs=1,\n",
              "              nthread=None, objective='binary:logistic', random_state=1,\n",
              "              reg_alpha=0, reg_lambda=1, scale_pos_weight=1, seed=None,\n",
              "              silent=None, subsample=1, verbosity=1)"
            ]
          },
          "metadata": {
            "tags": []
          },
          "execution_count": 4
        }
      ]
    },
    {
      "cell_type": "code",
      "metadata": {
        "id": "CSA6uIbbz4E0",
        "colab_type": "code",
        "colab": {
          "base_uri": "https://localhost:8080/",
          "height": 54
        },
        "outputId": "a7cbf956-90c4-4878-d06f-5b1b7cf8e3f2"
      },
      "source": [
        "print(\"test score: \", model.score(X_train, y_train))\n",
        "print(\"train score: \", model.score(X_test, y_test))"
      ],
      "execution_count": 5,
      "outputs": [
        {
          "output_type": "stream",
          "text": [
            "test score:  0.816867439372551\n",
            "train score:  0.8125795216491666\n"
          ],
          "name": "stdout"
        }
      ]
    },
    {
      "cell_type": "code",
      "metadata": {
        "id": "2cqCM9f3z6Oa",
        "colab_type": "code",
        "colab": {}
      },
      "source": [
        "model.save_model(\"gdrive/My Drive/Embeddings/Sentence Embeddings/xgb_model\")"
      ],
      "execution_count": 0,
      "outputs": []
    },
    {
      "cell_type": "code",
      "metadata": {
        "id": "91tmE9jez-pv",
        "colab_type": "code",
        "colab": {
          "base_uri": "https://localhost:8080/",
          "height": 35
        },
        "outputId": "4a89b920-ac66-49ec-e5be-8045f04de330"
      },
      "source": [
        "# import joblib\n",
        "joblib.dump(model, \"gdrive/My Drive/Embeddings/Sentence Embeddings/xgb_model.dat\")"
      ],
      "execution_count": 10,
      "outputs": [
        {
          "output_type": "execute_result",
          "data": {
            "text/plain": [
              "['gdrive/My Drive/Embeddings/Sentence Embeddings/xgb_model.dat']"
            ]
          },
          "metadata": {
            "tags": []
          },
          "execution_count": 10
        }
      ]
    },
    {
      "cell_type": "code",
      "metadata": {
        "id": "UYutPDop8qCy",
        "colab_type": "code",
        "colab": {}
      },
      "source": [
        ""
      ],
      "execution_count": 0,
      "outputs": []
    }
  ]
}